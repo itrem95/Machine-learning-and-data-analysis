{
 "cells": [
  {
   "cell_type": "code",
   "execution_count": 1,
   "metadata": {},
   "outputs": [],
   "source": [
    "def write_answer_1(answer):\n",
    "    with open(\"task_answer_1.txt\", \"w\") as fout:\n",
    "        fout.write(str(answer))\n",
    "        \n",
    "def write_answer_2(answer):\n",
    "    with open(\"task_answer_2.txt\", \"w\") as fout:\n",
    "        fout.write(str(answer))\n",
    "\n",
    "def write_answer_3(answer):\n",
    "    with open(\"task_answer_3.txt\", \"w\") as fout:\n",
    "        fout.write(str(answer))"
   ]
  },
  {
   "cell_type": "code",
   "execution_count": 2,
   "metadata": {},
   "outputs": [],
   "source": [
    "from sklearn import datasets, model_selection, naive_bayes"
   ]
  },
  {
   "cell_type": "code",
   "execution_count": 4,
   "metadata": {},
   "outputs": [],
   "source": [
    "digits = datasets.load_digits()\n",
    "breast_cancer = datasets.load_breast_cancer()"
   ]
  },
  {
   "cell_type": "code",
   "execution_count": 12,
   "metadata": {},
   "outputs": [],
   "source": [
    "list_of_data = [digits, breast_cancer]\n",
    "list_of_bayes = [naive_bayes.BernoulliNB(), naive_bayes.MultinomialNB(), naive_bayes.GaussianNB()]"
   ]
  },
  {
   "cell_type": "code",
   "execution_count": 34,
   "metadata": {},
   "outputs": [
    {
     "data": {
      "text/plain": [
       "array([[  1.79900000e+01,   1.03800000e+01,   1.22800000e+02, ...,\n",
       "          2.65400000e-01,   4.60100000e-01,   1.18900000e-01],\n",
       "       [  2.05700000e+01,   1.77700000e+01,   1.32900000e+02, ...,\n",
       "          1.86000000e-01,   2.75000000e-01,   8.90200000e-02],\n",
       "       [  1.96900000e+01,   2.12500000e+01,   1.30000000e+02, ...,\n",
       "          2.43000000e-01,   3.61300000e-01,   8.75800000e-02],\n",
       "       ..., \n",
       "       [  1.66000000e+01,   2.80800000e+01,   1.08300000e+02, ...,\n",
       "          1.41800000e-01,   2.21800000e-01,   7.82000000e-02],\n",
       "       [  2.06000000e+01,   2.93300000e+01,   1.40100000e+02, ...,\n",
       "          2.65000000e-01,   4.08700000e-01,   1.24000000e-01],\n",
       "       [  7.76000000e+00,   2.45400000e+01,   4.79200000e+01, ...,\n",
       "          0.00000000e+00,   2.87100000e-01,   7.03900000e-02]])"
      ]
     },
     "execution_count": 34,
     "metadata": {},
     "output_type": "execute_result"
    }
   ],
   "source": [
    "breast_cancer.data"
   ]
  },
  {
   "cell_type": "code",
   "execution_count": 30,
   "metadata": {},
   "outputs": [],
   "source": [
    "score = []\n",
    "for i in range(len(list_of_data)):\n",
    "    X = list_of_data[i].data\n",
    "    y = list_of_data[i].target\n",
    "    for bayes in list_of_bayes:\n",
    "        answer = model_selection.cross_val_score(bayes, X, y).mean()\n",
    "        score.append(answer)\n",
    "digits_score, breast_cancer_score = score[:3], score[3:]"
   ]
  },
  {
   "cell_type": "code",
   "execution_count": 24,
   "metadata": {},
   "outputs": [
    {
     "name": "stdout",
     "output_type": "stream",
     "text": [
      "Качество работы классификатора с распределением Бернулли равно 0.825823650778\n",
      "Качество работы классификатора с мультиномиальным распределением равно 0.870877148974\n",
      "Качество работы классификатора с нормальным распределением равно 0.818600380355\n"
     ]
    }
   ],
   "source": [
    "print 'Качество работы классификатора с распределением Бернулли равно {}'.format(digits_score[0]) \n",
    "print 'Качество работы классификатора с мультиномиальным распределением равно {}'.format(digits_score[1]) \n",
    "print 'Качество работы классификатора с нормальным распределением равно {}'.format(digits_score[2])\n",
    "write_answer_2(max(digits_score))"
   ]
  },
  {
   "cell_type": "code",
   "execution_count": 25,
   "metadata": {},
   "outputs": [
    {
     "name": "stdout",
     "output_type": "stream",
     "text": [
      "Качество работы классификатора с распределением Бернулли равно 0.627420402859\n",
      "Качество работы классификатора с мультиномиальным распределением равно 0.894579040193\n",
      "Качество работы классификатора с нормальным распределением равно 0.936749280609\n"
     ]
    }
   ],
   "source": [
    "print 'Качество работы классификатора с распределением Бернулли равно {}'.format(breast_cancer_score[0]) \n",
    "print 'Качество работы классификатора с мультиномиальным распределением равно {}'.format(breast_cancer_score[1]) \n",
    "print 'Качество работы классификатора с нормальным распределением равно {}'.format(breast_cancer_score[2])\n",
    "write_answer_1(max(breast_cancer_score))"
   ]
  },
  {
   "cell_type": "code",
   "execution_count": 35,
   "metadata": {},
   "outputs": [],
   "source": [
    "answer3 = '3 4'\n",
    "write_answer_3(answer3)"
   ]
  },
  {
   "cell_type": "code",
   "execution_count": null,
   "metadata": {},
   "outputs": [],
   "source": []
  }
 ],
 "metadata": {
  "kernelspec": {
   "display_name": "Python 2",
   "language": "python",
   "name": "python2"
  },
  "language_info": {
   "codemirror_mode": {
    "name": "ipython",
    "version": 2
   },
   "file_extension": ".py",
   "mimetype": "text/x-python",
   "name": "python",
   "nbconvert_exporter": "python",
   "pygments_lexer": "ipython2",
   "version": "2.7.16"
  }
 },
 "nbformat": 4,
 "nbformat_minor": 2
}
