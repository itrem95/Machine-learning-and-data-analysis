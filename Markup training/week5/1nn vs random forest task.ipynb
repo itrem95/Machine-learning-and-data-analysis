{
 "cells": [
  {
   "cell_type": "code",
   "execution_count": 1,
   "metadata": {},
   "outputs": [],
   "source": [
    "from sklearn.datasets import load_digits\n",
    "from sklearn.metrics import accuracy_score\n",
    "import numpy as np\n",
    "from sklearn.neighbors import DistanceMetric, KNeighborsClassifier\n",
    "from sklearn.ensemble import RandomForestClassifier"
   ]
  },
  {
   "cell_type": "code",
   "execution_count": 2,
   "metadata": {},
   "outputs": [],
   "source": [
    "def write_answer_1(answer):\n",
    "    with open(\"1nn vs random forest task_1.txt\", \"w\") as fout:\n",
    "        fout.write(str(answer))\n",
    "        \n",
    "def write_answer_2(answer):\n",
    "    with open(\"1nn vs random forest task_2.txt\", \"w\") as fout:\n",
    "        fout.write(str(answer))"
   ]
  },
  {
   "cell_type": "code",
   "execution_count": 3,
   "metadata": {},
   "outputs": [],
   "source": [
    "digits = load_digits()\n",
    "X = digits.data\n",
    "y = digits.target\n",
    "offset = int(X.shape[0] * 0.75)\n",
    "X_train, y_train = X[:offset], y[:offset]\n",
    "X_test, y_test = X[offset:], y[offset:]"
   ]
  },
  {
   "cell_type": "code",
   "execution_count": 4,
   "metadata": {},
   "outputs": [
    {
     "name": "stdout",
     "output_type": "stream",
     "text": [
      "0.962222222222\n"
     ]
    }
   ],
   "source": [
    "one_clf = KNeighborsClassifier(n_neighbors=1, weights='distance')\n",
    "one_clf.fit(X_train, y_train)\n",
    "\n",
    "answer1 = accuracy_score(y_test, one_clf.predict(X_test))\n",
    "print answer1"
   ]
  },
  {
   "cell_type": "code",
   "execution_count": 5,
   "metadata": {},
   "outputs": [
    {
     "name": "stdout",
     "output_type": "stream",
     "text": [
      "0.937777777778\n"
     ]
    }
   ],
   "source": [
    "ctf = RandomForestClassifier(n_estimators=1000) \n",
    "ctf.fit(X_train, y_train)\n",
    "\n",
    "answer2 = accuracy_score(y_test, ctf.predict(X_test))\n",
    "print answer2"
   ]
  },
  {
   "cell_type": "code",
   "execution_count": 6,
   "metadata": {},
   "outputs": [],
   "source": [
    "write_answer_1(1-answer1)\n",
    "write_answer_2(1-answer2)"
   ]
  },
  {
   "cell_type": "code",
   "execution_count": null,
   "metadata": {},
   "outputs": [],
   "source": []
  }
 ],
 "metadata": {
  "kernelspec": {
   "display_name": "Python 2",
   "language": "python",
   "name": "python2"
  },
  "language_info": {
   "codemirror_mode": {
    "name": "ipython",
    "version": 2
   },
   "file_extension": ".py",
   "mimetype": "text/x-python",
   "name": "python",
   "nbconvert_exporter": "python",
   "pygments_lexer": "ipython2",
   "version": "2.7.16"
  }
 },
 "nbformat": 4,
 "nbformat_minor": 2
}
