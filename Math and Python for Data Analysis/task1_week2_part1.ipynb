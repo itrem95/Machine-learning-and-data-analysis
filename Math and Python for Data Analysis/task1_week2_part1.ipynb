{
 "cells": [
  {
   "cell_type": "code",
   "execution_count": 1,
   "metadata": {},
   "outputs": [],
   "source": [
    "import re \n",
    "file = []\n",
    "for count, line in enumerate (open('sentences.txt', 'r'), start=1):\n",
    "    file.append(line.lower().strip())"
   ]
  },
  {
   "cell_type": "code",
   "execution_count": 2,
   "metadata": {},
   "outputs": [],
   "source": [
    "for i in range(len(file)):\n",
    "    file[i] = re.split('[^a-z]', file[i])\n",
    "file = [[sym for sym in file[i] if sym] for i in range(len(file))]"
   ]
  },
  {
   "cell_type": "code",
   "execution_count": 3,
   "metadata": {},
   "outputs": [],
   "source": [
    "words= {}\n",
    "for i in range(len(file)):\n",
    "    for word in file[i]:\n",
    "        words[word] = len(file)*[0]"
   ]
  },
  {
   "cell_type": "code",
   "execution_count": 4,
   "metadata": {},
   "outputs": [],
   "source": [
    "for i in range(len(file)):\n",
    "    for word in file[i]:\n",
    "        words[word][i] += 1"
   ]
  },
  {
   "cell_type": "code",
   "execution_count": 5,
   "metadata": {},
   "outputs": [],
   "source": [
    "import numpy as np\n",
    "new_list = []\n",
    "for i in words.keys():\n",
    "    new_list.append(words[i])\n",
    "matrix = np.array(new_list)\n",
    "matrix = matrix.T"
   ]
  },
  {
   "cell_type": "code",
   "execution_count": 6,
   "metadata": {},
   "outputs": [
    {
     "name": "stdout",
     "output_type": "stream",
     "text": [
      "[0.9527544408738466, 0.8644738145642124, 0.8951715163278082, 0.7770887149698589, 0.9402385695332803, 0.7327387580875756, 0.9258750683338899, 0.8842724875284311, 0.9055088817476932, 0.8328165362273942, 0.8804771390665607, 0.8396432548525454, 0.8703592552895671, 0.8740118423302576, 0.9442721787424647, 0.8406361854220809, 0.956644501523794, 0.9442721787424647, 0.8885443574849294, 0.8427572744917122, 0.8250364469440588]\n"
     ]
    }
   ],
   "source": [
    "from scipy.spatial.distance import cosine\n",
    "min1, min2, list_of_cos = 2, 2, []\n",
    "for i in range(1, len(matrix)):\n",
    "    cosinus = cosine(matrix[0], matrix[i])\n",
    "    list_of_cos.append(cosinus)\n",
    "    if cosinus <= min1:\n",
    "        min1, min2 = cosinus, min1 \n",
    "    elif cosinus < min2:\n",
    "        min2 = cosinus\n",
    "print(list_of_cos)"
   ]
  },
  {
   "cell_type": "code",
   "execution_count": 7,
   "metadata": {},
   "outputs": [],
   "source": [
    "data = open('submission-2_1.txt', 'w')\n",
    "data.write(str(list_of_cos.index(min1)+1)+ ' ')\n",
    "data.write(str(list_of_cos.index(min2)+1))\n",
    "data.close()"
   ]
  },
  {
   "cell_type": "code",
   "execution_count": null,
   "metadata": {},
   "outputs": [],
   "source": []
  }
 ],
 "metadata": {
  "kernelspec": {
   "display_name": "Python 2",
   "language": "python",
   "name": "python2"
  },
  "language_info": {
   "codemirror_mode": {
    "name": "ipython",
    "version": 2
   },
   "file_extension": ".py",
   "mimetype": "text/x-python",
   "name": "python",
   "nbconvert_exporter": "python",
   "pygments_lexer": "ipython2",
   "version": "2.7.16"
  }
 },
 "nbformat": 4,
 "nbformat_minor": 2
}
