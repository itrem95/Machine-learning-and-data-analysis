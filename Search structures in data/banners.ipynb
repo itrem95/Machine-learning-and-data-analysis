{
 "cells": [
  {
   "cell_type": "markdown",
   "metadata": {},
   "source": [
    "# Постановка задачи"
   ]
  },
  {
   "cell_type": "markdown",
   "metadata": {},
   "source": [
    "Представим, что международное круизное агентство Carnival Cruise Line решило себя разрекламировать с помощью баннеров и обратилось для этого к вам. Чтобы протестировать, велика ли от таких баннеров польза, их будет размещено всего 20 штук по всему миру. Вам надо выбрать 20 таких локаций для размещения, чтобы польза была большой и агентство продолжило с вами сотрудничать.\n",
    "\n",
    "Агентство крупное, и у него есть несколько офисов по всему миру. Вблизи этих офисов оно и хочет разместить баннеры — легче договариваться и проверять результат. Также эти места должны быть популярны среди туристов.\n",
    "\n",
    "Для поиска оптимальных мест воспользуемся базой данных крупнейшей социальной сети, основанной на локациях — Foursquare.\n",
    "\n",
    "Часть открытых данных есть, например, на сайте archive.org:\n",
    "\n",
    "https://archive.org/details/201309_foursquare_dataset_umn\n",
    "\n",
    "Скачаем любым удобным образом архив fsq.zip с этой страницы."
   ]
  },
  {
   "cell_type": "markdown",
   "metadata": {},
   "source": [
    "# Преобразование данных в формат csv"
   ]
  },
  {
   "cell_type": "markdown",
   "metadata": {},
   "source": [
    "Нас будет интересовать файл checkins.dat. Открыв его, увидим следующую структуру:\n",
    "id | user_id | venue_id | latitude | longitude | created_at\n",
    "\n",
    "---------+---------+----------+-------------------+-------------------+---------------------\n",
    "\n",
    "984301 | 2041916 | 5222 | | | 2012-04-21 17:39:01\n",
    "\n",
    "984222 | 15824 | 5222 | 38.8951118 | -77.0363658 | 2012-04-21 17:43:47\n",
    "\n",
    "984315 | 1764391 | 5222 | | | 2012-04-21 17:37:18\n",
    "\n",
    "984234 | 44652 | 5222 | 33.800745 | -84.41052 | 2012-04-21 17:43:43\n",
    "\n",
    "...\n",
    "Для удобной работы с этим документом преобразуем его к формату csv, удалив строки, не содержащие координат — они неинформативны для нас:\n",
    "id,user_id,venue_id,latitude,longitude,created_at\n",
    "\n",
    "984222,15824,5222,38.8951118,-77.0363658,2012-04-21T17:43:47\n",
    "\n",
    "984234,44652,5222,33.800745,-84.41052,2012-04-21T17:43:43\n",
    "\n",
    "984291,105054,5222,45.5234515,-122.6762071,2012-04-21T17:39:22\n",
    "\n",
    "...\n",
    "С помощью pandas построим DataFrame и убедимся, что все 396634 строки с координатами считаны успешно."
   ]
  },
  {
   "cell_type": "code",
   "execution_count": 1,
   "metadata": {},
   "outputs": [],
   "source": [
    "import pandas as pd"
   ]
  },
  {
   "cell_type": "code",
   "execution_count": 22,
   "metadata": {},
   "outputs": [
    {
     "name": "stdout",
     "output_type": "stream",
     "text": [
      "---------+---------+----------+-------------------+-------------------+---------------------\n",
      "\n",
      "(1021966 rows)\n",
      "\n",
      "\n",
      "\n"
     ]
    }
   ],
   "source": [
    "data = []\n",
    "lines = []\n",
    "\n",
    "with open('checkins.dat', 'r') as input_file:\n",
    "    columns_names = map(lambda x: x.strip(), input_file.readline().strip().split('|'))\n",
    "    n_params = len(columns_names)\n",
    "    for line in input_file:\n",
    "        items = map(lambda x: x.strip(), line.strip().split('|'))\n",
    "        if len(items) != n_params:\n",
    "            print line\n",
    "        else:\n",
    "            data.append(items)      "
   ]
  },
  {
   "cell_type": "code",
   "execution_count": 23,
   "metadata": {},
   "outputs": [
    {
     "data": {
      "text/plain": [
       "(396634, 6)"
      ]
     },
     "execution_count": 23,
     "metadata": {},
     "output_type": "execute_result"
    }
   ],
   "source": [
    "df = pd.DataFrame(data)\n",
    "df.columns = columns_names\n",
    "df = df[(df.latitude != '') & (df.longitude != '')]\n",
    "df.shape"
   ]
  },
  {
   "cell_type": "code",
   "execution_count": 24,
   "metadata": {},
   "outputs": [],
   "source": [
    "df.to_csv('data.csv')"
   ]
  },
  {
   "cell_type": "code",
   "execution_count": 25,
   "metadata": {},
   "outputs": [
    {
     "data": {
      "text/html": [
       "<div>\n",
       "<style scoped>\n",
       "    .dataframe tbody tr th:only-of-type {\n",
       "        vertical-align: middle;\n",
       "    }\n",
       "\n",
       "    .dataframe tbody tr th {\n",
       "        vertical-align: top;\n",
       "    }\n",
       "\n",
       "    .dataframe thead th {\n",
       "        text-align: right;\n",
       "    }\n",
       "</style>\n",
       "<table border=\"1\" class=\"dataframe\">\n",
       "  <thead>\n",
       "    <tr style=\"text-align: right;\">\n",
       "      <th></th>\n",
       "      <th>id</th>\n",
       "      <th>user_id</th>\n",
       "      <th>venue_id</th>\n",
       "      <th>latitude</th>\n",
       "      <th>longitude</th>\n",
       "      <th>created_at</th>\n",
       "    </tr>\n",
       "  </thead>\n",
       "  <tbody>\n",
       "    <tr>\n",
       "      <th>1</th>\n",
       "      <td>984222</td>\n",
       "      <td>15824</td>\n",
       "      <td>5222</td>\n",
       "      <td>38.8951118</td>\n",
       "      <td>-77.0363658</td>\n",
       "      <td>2012-04-21 17:43:47</td>\n",
       "    </tr>\n",
       "    <tr>\n",
       "      <th>3</th>\n",
       "      <td>984234</td>\n",
       "      <td>44652</td>\n",
       "      <td>5222</td>\n",
       "      <td>33.800745</td>\n",
       "      <td>-84.41052</td>\n",
       "      <td>2012-04-21 17:43:43</td>\n",
       "    </tr>\n",
       "    <tr>\n",
       "      <th>7</th>\n",
       "      <td>984291</td>\n",
       "      <td>105054</td>\n",
       "      <td>5222</td>\n",
       "      <td>45.5234515</td>\n",
       "      <td>-122.6762071</td>\n",
       "      <td>2012-04-21 17:39:22</td>\n",
       "    </tr>\n",
       "    <tr>\n",
       "      <th>9</th>\n",
       "      <td>984318</td>\n",
       "      <td>2146539</td>\n",
       "      <td>5222</td>\n",
       "      <td>40.764462</td>\n",
       "      <td>-111.904565</td>\n",
       "      <td>2012-04-21 17:35:46</td>\n",
       "    </tr>\n",
       "    <tr>\n",
       "      <th>10</th>\n",
       "      <td>984232</td>\n",
       "      <td>93870</td>\n",
       "      <td>380645</td>\n",
       "      <td>33.4483771</td>\n",
       "      <td>-112.0740373</td>\n",
       "      <td>2012-04-21 17:38:18</td>\n",
       "    </tr>\n",
       "  </tbody>\n",
       "</table>\n",
       "</div>"
      ],
      "text/plain": [
       "        id  user_id venue_id    latitude     longitude           created_at\n",
       "1   984222    15824     5222  38.8951118   -77.0363658  2012-04-21 17:43:47\n",
       "3   984234    44652     5222   33.800745     -84.41052  2012-04-21 17:43:43\n",
       "7   984291   105054     5222  45.5234515  -122.6762071  2012-04-21 17:39:22\n",
       "9   984318  2146539     5222   40.764462   -111.904565  2012-04-21 17:35:46\n",
       "10  984232    93870   380645  33.4483771  -112.0740373  2012-04-21 17:38:18"
      ]
     },
     "execution_count": 25,
     "metadata": {},
     "output_type": "execute_result"
    }
   ],
   "source": [
    "df.head()"
   ]
  },
  {
   "cell_type": "markdown",
   "metadata": {},
   "source": [
    "# Кластеризация"
   ]
  },
  {
   "cell_type": "markdown",
   "metadata": {},
   "source": [
    "Теперь необходимо кластеризовать данные координаты, чтобы выявить центры скоплений туристов. Поскольку баннеры имеют сравнительно небольшую площадь действия, нам нужен алгоритм, позволяющий ограничить размер кластера и не зависящий от количества кластеров.\n",
    "\n",
    "Эта задача — хороший повод познакомиться с алгоритмом MeanShift, который мы обошли стороной в основной части лекций. Его описание при желании можно посмотреть в sklearn user guide, а чуть позже появится дополнительное видео с обзором этого и некоторых других алгоритмов кластеризации. Используйте MeanShift, указав bandwidth=0.1, что в переводе из градусов в метры колеблется примерно от 5 до 10 км в средних широтах.\n",
    "\n",
    "Примечание:на 396634 строках кластеризация будет работать долго. Быть очень терпеливым не возбраняется — результат от этого только улучшится. Но для того, чтобы сдать задание, понадобится сабсет из первых 100 тысяч строк. Это компромисс между качеством и затраченным временем. Обучение алгоритма на всём датасете занимает около часа, а на 100 тыс. строк — примерно 2 минуты, однако этого достаточно для получения корректных результатов."
   ]
  },
  {
   "cell_type": "code",
   "execution_count": 35,
   "metadata": {},
   "outputs": [],
   "source": [
    "from sklearn.cluster import MeanShift\n",
    "\n",
    "data = df[['latitude', 'longitude']]\n",
    "data = data.applymap(float)"
   ]
  },
  {
   "cell_type": "code",
   "execution_count": 36,
   "metadata": {},
   "outputs": [],
   "source": [
    "data_sample = data.sample(100000)"
   ]
  },
  {
   "cell_type": "code",
   "execution_count": 37,
   "metadata": {},
   "outputs": [
    {
     "name": "stdout",
     "output_type": "stream",
     "text": [
      "Wall time: 3min 47s\n"
     ]
    }
   ],
   "source": [
    "%%time\n",
    "clstr = MeanShift(bandwidth=0.1)\n",
    "clstr.fit(data_sample)"
   ]
  },
  {
   "cell_type": "markdown",
   "metadata": {},
   "source": [
    "Некоторые из получившихся кластеров содержат слишком мало точек — такие кластеры не интересны рекламодателям. Поэтому надо определить, какие из кластеров содержат, скажем, больше 15 элементов. Центры этих кластеров и являются оптимальными для размещения.\n",
    "\n",
    "При желании увидеть получившиеся результаты на карте можно передать центры получившихся кластеров в один из инструментов визуализации. Например, сайт mapcustomizer.com имеет функцию Bulk Entry, куда можно вставить центры полученных кластеров в формате:\n",
    "38.8951118,-77.0363658\n",
    "\n",
    "33.800745,-84.41052\n",
    "\n",
    "45.5234515,-122.6762071\n",
    "\n",
    "..."
   ]
  },
  {
   "cell_type": "code",
   "execution_count": 39,
   "metadata": {},
   "outputs": [
    {
     "data": {
      "text/plain": [
       "array([   1,  676,    3, ...,    4, 2699,   10], dtype=int64)"
      ]
     },
     "execution_count": 39,
     "metadata": {},
     "output_type": "execute_result"
    }
   ],
   "source": [
    "clstr.predict(data_sample)"
   ]
  },
  {
   "cell_type": "code",
   "execution_count": 40,
   "metadata": {},
   "outputs": [],
   "source": [
    "data_sample['cluster'] = clstr.predict(data_sample)"
   ]
  },
  {
   "cell_type": "code",
   "execution_count": 45,
   "metadata": {},
   "outputs": [],
   "source": [
    "cluster_size = pd.DataFrame(data_sample.pivot_table(index = 'cluster', aggfunc = 'count', values = 'latitude'))\n",
    "cluster_size.columns = ['cluster_size']"
   ]
  },
  {
   "cell_type": "code",
   "execution_count": 46,
   "metadata": {},
   "outputs": [],
   "source": [
    "df_cluster_centers_ = pd.DataFrame(clstr.cluster_centers_)\n",
    "df_cluster_centers_.columns = ['center_latitude', 'center_longitude']"
   ]
  },
  {
   "cell_type": "code",
   "execution_count": 47,
   "metadata": {},
   "outputs": [],
   "source": [
    "clusters_df = df_cluster_centers_.join(cluster_size)\n",
    "clusters_df.to_csv('clusters_df')\n",
    "clusters_df  = clusters_df[clusters_df.cluster_size > 15]"
   ]
  },
  {
   "cell_type": "code",
   "execution_count": 49,
   "metadata": {},
   "outputs": [
    {
     "data": {
      "text/html": [
       "<div>\n",
       "<style scoped>\n",
       "    .dataframe tbody tr th:only-of-type {\n",
       "        vertical-align: middle;\n",
       "    }\n",
       "\n",
       "    .dataframe tbody tr th {\n",
       "        vertical-align: top;\n",
       "    }\n",
       "\n",
       "    .dataframe thead th {\n",
       "        text-align: right;\n",
       "    }\n",
       "</style>\n",
       "<table border=\"1\" class=\"dataframe\">\n",
       "  <thead>\n",
       "    <tr style=\"text-align: right;\">\n",
       "      <th></th>\n",
       "      <th>center_latitude</th>\n",
       "      <th>center_longitude</th>\n",
       "      <th>cluster_size</th>\n",
       "    </tr>\n",
       "  </thead>\n",
       "  <tbody>\n",
       "    <tr>\n",
       "      <th>0</th>\n",
       "      <td>40.717852</td>\n",
       "      <td>-73.989326</td>\n",
       "      <td>14135</td>\n",
       "    </tr>\n",
       "    <tr>\n",
       "      <th>1</th>\n",
       "      <td>33.449343</td>\n",
       "      <td>-112.002009</td>\n",
       "      <td>5087</td>\n",
       "    </tr>\n",
       "    <tr>\n",
       "      <th>2</th>\n",
       "      <td>41.878154</td>\n",
       "      <td>-87.629833</td>\n",
       "      <td>3821</td>\n",
       "    </tr>\n",
       "    <tr>\n",
       "      <th>3</th>\n",
       "      <td>38.886058</td>\n",
       "      <td>-77.048288</td>\n",
       "      <td>2806</td>\n",
       "    </tr>\n",
       "    <tr>\n",
       "      <th>4</th>\n",
       "      <td>37.685843</td>\n",
       "      <td>-122.409212</td>\n",
       "      <td>1634</td>\n",
       "    </tr>\n",
       "  </tbody>\n",
       "</table>\n",
       "</div>"
      ],
      "text/plain": [
       "   center_latitude  center_longitude  cluster_size\n",
       "0        40.717852        -73.989326         14135\n",
       "1        33.449343       -112.002009          5087\n",
       "2        41.878154        -87.629833          3821\n",
       "3        38.886058        -77.048288          2806\n",
       "4        37.685843       -122.409212          1634"
      ]
     },
     "execution_count": 49,
     "metadata": {},
     "output_type": "execute_result"
    }
   ],
   "source": [
    "clusters_df.head()"
   ]
  },
  {
   "cell_type": "markdown",
   "metadata": {},
   "source": [
    "Как мы помним, 20 баннеров надо разместить близ офисов компании. Найдем на Google Maps по запросу Carnival Cruise Line адреса всех офисов:\n",
    "33.751277, -118.188740 (Los Angeles)\n",
    "\n",
    "25.867736, -80.324116 (Miami)\n",
    "\n",
    "51.503016, -0.075479 (London)\n",
    "\n",
    "52.378894, 4.885084 (Amsterdam)\n",
    "\n",
    "39.366487, 117.036146 (Beijing)\n",
    "\n",
    "-33.868457, 151.205134 (Sydney)\n",
    "Осталось определить 20 ближайших к ним центров кластеров. Т.е. посчитать дистанцию до ближайшего офиса для каждой точки и выбрать 20 с наименьшим значением.\n",
    "\n",
    "Примечание: при подсчете расстояний и в кластеризации можно пренебречь тем, что Земля круглая, так как в точках, расположенных близко друг к другу погрешность мала, а в остальных точках значение достаточно велико.\n",
    "\n",
    "Для сдачи задания выберите из получившихся 20 центров тот, который наименее удален от ближайшего к нему офиса. Ответ в этом задании — широта и долгота этого центра, записанные через пробел."
   ]
  },
  {
   "cell_type": "code",
   "execution_count": 50,
   "metadata": {},
   "outputs": [],
   "source": [
    "def get_distance(latitude1, longitude1, latitude2, longitude2):\n",
    "    return ((latitude1 - latitude2)**2 + (longitude1 - longitude2)**2)**0.5\n",
    "\n",
    "office_coordinates = [\n",
    "                    (33.751277, -118.188740),\n",
    "                    (25.867736, -80.324116),  \n",
    "                    (51.503016, -0.075479),  \n",
    "                    (52.378894, 4.885084),  \n",
    "                    (39.366487, 117.036146), \n",
    "                    (-33.868457, 151.205134)\n",
    "] \n",
    "def get_min_distance(latitude, longitude):\n",
    "    min_distance = None\n",
    "    for (office_lat, office_lon) in office_coordinates:\n",
    "        dist = get_distance(latitude, longitude, office_lat, office_lon)\n",
    "        if (min_distance is None) or (dist < min_distance):\n",
    "            min_distance = dist\n",
    "    return min_distance"
   ]
  },
  {
   "cell_type": "code",
   "execution_count": 51,
   "metadata": {},
   "outputs": [],
   "source": [
    "clusters_df['min_distance'] = map(get_min_distance, clusters_df.center_latitude, clusters_df.center_longitude)"
   ]
  },
  {
   "cell_type": "code",
   "execution_count": 60,
   "metadata": {},
   "outputs": [
    {
     "data": {
      "text/html": [
       "<div>\n",
       "<style scoped>\n",
       "    .dataframe tbody tr th:only-of-type {\n",
       "        vertical-align: middle;\n",
       "    }\n",
       "\n",
       "    .dataframe tbody tr th {\n",
       "        vertical-align: top;\n",
       "    }\n",
       "\n",
       "    .dataframe thead th {\n",
       "        text-align: right;\n",
       "    }\n",
       "</style>\n",
       "<table border=\"1\" class=\"dataframe\">\n",
       "  <thead>\n",
       "    <tr style=\"text-align: right;\">\n",
       "      <th></th>\n",
       "      <th>center_latitude</th>\n",
       "      <th>center_longitude</th>\n",
       "      <th>cluster_size</th>\n",
       "      <th>min_distance</th>\n",
       "    </tr>\n",
       "  </thead>\n",
       "  <tbody>\n",
       "    <tr>\n",
       "      <th>243</th>\n",
       "      <td>-33.866315</td>\n",
       "      <td>151.204861</td>\n",
       "      <td>54</td>\n",
       "      <td>0.002159</td>\n",
       "    </tr>\n",
       "    <tr>\n",
       "      <th>365</th>\n",
       "      <td>52.372878</td>\n",
       "      <td>4.892406</td>\n",
       "      <td>32</td>\n",
       "      <td>0.009477</td>\n",
       "    </tr>\n",
       "    <tr>\n",
       "      <th>52</th>\n",
       "      <td>51.502971</td>\n",
       "      <td>-0.126901</td>\n",
       "      <td>301</td>\n",
       "      <td>0.051422</td>\n",
       "    </tr>\n",
       "    <tr>\n",
       "      <th>187</th>\n",
       "      <td>25.911580</td>\n",
       "      <td>-80.269340</td>\n",
       "      <td>83</td>\n",
       "      <td>0.070162</td>\n",
       "    </tr>\n",
       "    <tr>\n",
       "      <th>48</th>\n",
       "      <td>33.809954</td>\n",
       "      <td>-118.146755</td>\n",
       "      <td>291</td>\n",
       "      <td>0.072151</td>\n",
       "    </tr>\n",
       "    <tr>\n",
       "      <th>24</th>\n",
       "      <td>25.787188</td>\n",
       "      <td>-80.215169</td>\n",
       "      <td>673</td>\n",
       "      <td>0.135490</td>\n",
       "    </tr>\n",
       "    <tr>\n",
       "      <th>92</th>\n",
       "      <td>26.005507</td>\n",
       "      <td>-80.209016</td>\n",
       "      <td>119</td>\n",
       "      <td>0.179524</td>\n",
       "    </tr>\n",
       "    <tr>\n",
       "      <th>84</th>\n",
       "      <td>33.902232</td>\n",
       "      <td>-118.064199</td>\n",
       "      <td>152</td>\n",
       "      <td>0.195698</td>\n",
       "    </tr>\n",
       "    <tr>\n",
       "      <th>36</th>\n",
       "      <td>33.873308</td>\n",
       "      <td>-118.369193</td>\n",
       "      <td>419</td>\n",
       "      <td>0.217841</td>\n",
       "    </tr>\n",
       "    <tr>\n",
       "      <th>3463</th>\n",
       "      <td>25.633994</td>\n",
       "      <td>-80.432277</td>\n",
       "      <td>17</td>\n",
       "      <td>0.257554</td>\n",
       "    </tr>\n",
       "    <tr>\n",
       "      <th>47</th>\n",
       "      <td>33.642528</td>\n",
       "      <td>-117.946971</td>\n",
       "      <td>330</td>\n",
       "      <td>0.265101</td>\n",
       "    </tr>\n",
       "    <tr>\n",
       "      <th>55</th>\n",
       "      <td>26.108143</td>\n",
       "      <td>-80.157543</td>\n",
       "      <td>227</td>\n",
       "      <td>0.292476</td>\n",
       "    </tr>\n",
       "    <tr>\n",
       "      <th>32</th>\n",
       "      <td>33.809145</td>\n",
       "      <td>-117.891380</td>\n",
       "      <td>434</td>\n",
       "      <td>0.302938</td>\n",
       "    </tr>\n",
       "    <tr>\n",
       "      <th>9</th>\n",
       "      <td>34.065994</td>\n",
       "      <td>-118.265558</td>\n",
       "      <td>1056</td>\n",
       "      <td>0.323957</td>\n",
       "    </tr>\n",
       "    <tr>\n",
       "      <th>179</th>\n",
       "      <td>26.205385</td>\n",
       "      <td>-80.243360</td>\n",
       "      <td>53</td>\n",
       "      <td>0.347172</td>\n",
       "    </tr>\n",
       "    <tr>\n",
       "      <th>34</th>\n",
       "      <td>33.686620</td>\n",
       "      <td>-117.841013</td>\n",
       "      <td>318</td>\n",
       "      <td>0.353687</td>\n",
       "    </tr>\n",
       "    <tr>\n",
       "      <th>78</th>\n",
       "      <td>34.067866</td>\n",
       "      <td>-118.010014</td>\n",
       "      <td>81</td>\n",
       "      <td>0.363554</td>\n",
       "    </tr>\n",
       "    <tr>\n",
       "      <th>17</th>\n",
       "      <td>34.033064</td>\n",
       "      <td>-118.436104</td>\n",
       "      <td>693</td>\n",
       "      <td>0.374958</td>\n",
       "    </tr>\n",
       "    <tr>\n",
       "      <th>46</th>\n",
       "      <td>34.135509</td>\n",
       "      <td>-118.170063</td>\n",
       "      <td>256</td>\n",
       "      <td>0.384686</td>\n",
       "    </tr>\n",
       "    <tr>\n",
       "      <th>101</th>\n",
       "      <td>34.048435</td>\n",
       "      <td>-117.905318</td>\n",
       "      <td>140</td>\n",
       "      <td>0.410647</td>\n",
       "    </tr>\n",
       "  </tbody>\n",
       "</table>\n",
       "</div>"
      ],
      "text/plain": [
       "      center_latitude  center_longitude  cluster_size  min_distance\n",
       "243        -33.866315        151.204861            54      0.002159\n",
       "365         52.372878          4.892406            32      0.009477\n",
       "52          51.502971         -0.126901           301      0.051422\n",
       "187         25.911580        -80.269340            83      0.070162\n",
       "48          33.809954       -118.146755           291      0.072151\n",
       "24          25.787188        -80.215169           673      0.135490\n",
       "92          26.005507        -80.209016           119      0.179524\n",
       "84          33.902232       -118.064199           152      0.195698\n",
       "36          33.873308       -118.369193           419      0.217841\n",
       "3463        25.633994        -80.432277            17      0.257554\n",
       "47          33.642528       -117.946971           330      0.265101\n",
       "55          26.108143        -80.157543           227      0.292476\n",
       "32          33.809145       -117.891380           434      0.302938\n",
       "9           34.065994       -118.265558          1056      0.323957\n",
       "179         26.205385        -80.243360            53      0.347172\n",
       "34          33.686620       -117.841013           318      0.353687\n",
       "78          34.067866       -118.010014            81      0.363554\n",
       "17          34.033064       -118.436104           693      0.374958\n",
       "46          34.135509       -118.170063           256      0.384686\n",
       "101         34.048435       -117.905318           140      0.410647"
      ]
     },
     "execution_count": 60,
     "metadata": {},
     "output_type": "execute_result"
    }
   ],
   "source": [
    "clusters_df_20_values = clusters_df.sort_values('min_distance')[:20]\n",
    "clusters_df_20_values"
   ]
  },
  {
   "cell_type": "code",
   "execution_count": 75,
   "metadata": {},
   "outputs": [],
   "source": [
    "lat = clusters_df_20_values['center_latitude'].values[0]\n",
    "lon = clusters_df_20_values['center_longitude'].values[0]"
   ]
  },
  {
   "cell_type": "code",
   "execution_count": 76,
   "metadata": {},
   "outputs": [],
   "source": [
    "def write_answer(lat, lon):\n",
    "    with open('banners_answer.txt', 'w') as f_out:\n",
    "        f_out.write(str(lat)+' '+str(lon))"
   ]
  },
  {
   "cell_type": "code",
   "execution_count": 77,
   "metadata": {},
   "outputs": [],
   "source": [
    "write_answer(lat, lon)"
   ]
  },
  {
   "cell_type": "code",
   "execution_count": null,
   "metadata": {},
   "outputs": [],
   "source": []
  }
 ],
 "metadata": {
  "kernelspec": {
   "display_name": "Python 2",
   "language": "python",
   "name": "python2"
  },
  "language_info": {
   "codemirror_mode": {
    "name": "ipython",
    "version": 2
   },
   "file_extension": ".py",
   "mimetype": "text/x-python",
   "name": "python",
   "nbconvert_exporter": "python",
   "pygments_lexer": "ipython2",
   "version": "2.7.16"
  }
 },
 "nbformat": 4,
 "nbformat_minor": 2
}
